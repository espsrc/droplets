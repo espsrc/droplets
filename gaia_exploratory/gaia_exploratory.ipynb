{
 "cells": [
  {
   "cell_type": "markdown",
   "metadata": {},
   "source": [
    "# Exploratoy analysis of unkown Gaia DR2 dataset"
   ]
  },
  {
   "cell_type": "code",
   "execution_count": 7,
   "metadata": {},
   "outputs": [
    {
     "data": {
      "text/html": [
       "\n",
       "        <iframe\n",
       "            width=\"600\"\n",
       "            height=\"300\"\n",
       "            src=\"https://upload.wikimedia.org/wikipedia/en/0/01/Gaia_spacecraft.jpg\"\n",
       "            frameborder=\"0\"\n",
       "            allowfullscreen\n",
       "        ></iframe>\n",
       "        "
      ],
      "text/plain": [
       "<IPython.lib.display.IFrame at 0x7fcc8ba84510>"
      ]
     },
     "execution_count": 7,
     "metadata": {},
     "output_type": "execute_result"
    }
   ],
   "source": [
    "IFrame('https://upload.wikimedia.org/wikipedia/en/0/01/Gaia_spacecraft.jpg', width=600, height=300)"
   ]
  },
  {
   "cell_type": "markdown",
   "metadata": {},
   "source": [
    "#### Context\n",
    "\n",
    "I have received a dataset with some entries of an unknown field with Gaia DR2 parameters. I will explore the data set and try to gain some insight on what science can be extracted from the data. The file is in csv format, so I will load it with pandas for exploratory analysis.\n",
    "\n",
    "First I will load all the required modules"
   ]
  },
  {
   "cell_type": "code",
   "execution_count": 8,
   "metadata": {},
   "outputs": [],
   "source": [
    "import os\n",
    "import pandas as pd\n",
    "import numpy as np\n",
    "import matplotlib.pyplot as plt\n",
    "import matplotlib\n",
    "\n",
    "matplotlib.rcParams['figure.figsize'] = (16.0, 8.0)\n"
   ]
  },
  {
   "cell_type": "markdown",
   "metadata": {},
   "source": [
    "Now I define some global variables"
   ]
  },
  {
   "cell_type": "markdown",
   "metadata": {},
   "source": [
    "# Download and load the data\n",
    "I will use a bash command to download the data and then untar the file. We can do it with bash (nice to show how to use bash code in the notebook), or with python, so we can manage the files in a general way."
   ]
  },
  {
   "cell_type": "code",
   "execution_count": 66,
   "metadata": {
    "scrolled": true
   },
   "outputs": [
    {
     "name": "stdout",
     "output_type": "stream",
     "text": [
      "gaia_data.csv\n"
     ]
    }
   ],
   "source": [
    "%%bash\n",
    "wget -q http://www.jb.man.ac.uk/~jmoldon/gaia_data.tgz\n",
    "tar xvfz gaia_data.tgz\n",
    "#ls -lh gaia_data.csv"
   ]
  },
  {
   "cell_type": "code",
   "execution_count": 62,
   "metadata": {},
   "outputs": [],
   "source": [
    "download_link = 'http://www.jb.man.ac.uk/~jmoldon/gaia_data.tgz'"
   ]
  },
  {
   "cell_type": "code",
   "execution_count": 65,
   "metadata": {},
   "outputs": [
    {
     "name": "stdout",
     "output_type": "stream",
     "text": [
      "Downloading file...\n",
      "Downloading file with command: wget http://www.jb.man.ac.uk/~jmoldon/gaia_data.tgz\n",
      "Check file is downloaded: True\n",
      "Running: tar xvfz gaia_data.tgz\n",
      "Done\n"
     ]
    }
   ],
   "source": [
    "def download_file(download_link, force_download=False):\n",
    "    \"\"\"\n",
    "    Use curl to follow a link 'download_link' to get a file 'filename'\n",
    "    Will not be downloaded if the file already exists\n",
    "    \"\"\"\n",
    "    # Get the name of the file to be downloaded\n",
    "    filename = os.path.split(download_link)[-1]\n",
    "    # Check if the file exists and download it otherwise\n",
    "    if not os.path.isfile(filename) or force_download:\n",
    "        command = f'wget {download_link}'\n",
    "        print('Downloading file with command: {}'.format(command))\n",
    "        os.system(command)\n",
    "        print(f'Check file is downloaded: {os.path.isfile(filename)}')\n",
    "    else:\n",
    "        print('File was already downloaded. Will not download it again')\n",
    "    return filename\n",
    "\n",
    "def untar_file(filename):\n",
    "    command = 'tar xvfz {}'.format(filename)\n",
    "    print('Running: {}'.format(command))\n",
    "    os.system(command)\n",
    "    print('Done')\n",
    "    \n",
    "downloaded_file = download_file(download_link)\n",
    "untar_file(downloaded_file)"
   ]
  },
  {
   "cell_type": "code",
   "execution_count": null,
   "metadata": {},
   "outputs": [],
   "source": []
  },
  {
   "cell_type": "code",
   "execution_count": null,
   "metadata": {},
   "outputs": [],
   "source": []
  }
 ],
 "metadata": {
  "kernelspec": {
   "display_name": "Python 3",
   "language": "python",
   "name": "python3"
  },
  "language_info": {
   "codemirror_mode": {
    "name": "ipython",
    "version": 3
   },
   "file_extension": ".py",
   "mimetype": "text/x-python",
   "name": "python",
   "nbconvert_exporter": "python",
   "pygments_lexer": "ipython3",
   "version": "3.7.5"
  }
 },
 "nbformat": 4,
 "nbformat_minor": 4
}
